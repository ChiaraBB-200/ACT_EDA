{
 "cells": [
  {
   "cell_type": "markdown",
   "metadata": {},
   "source": [
    "# ACT. PREPROCESAMIENTO\n",
    "Chiara Bombardieri Balanzá - A01659462  \n",
    "Gerardo Javier Lopez García - A01660262"
   ]
  },
  {
   "cell_type": "markdown",
   "metadata": {},
   "source": [
    "# Hipótesis\n",
    "A mayor inversión económica en la producción, mayor será el rating del anime."
   ]
  },
  {
   "cell_type": "markdown",
   "metadata": {},
   "source": [
    "# Preprocesamiento de datos"
   ]
  },
  {
   "cell_type": "code",
   "execution_count": 6,
   "metadata": {},
   "outputs": [
    {
     "data": {
      "text/html": [
       "<div>\n",
       "<style scoped>\n",
       "    .dataframe tbody tr th:only-of-type {\n",
       "        vertical-align: middle;\n",
       "    }\n",
       "\n",
       "    .dataframe tbody tr th {\n",
       "        vertical-align: top;\n",
       "    }\n",
       "\n",
       "    .dataframe thead th {\n",
       "        text-align: right;\n",
       "    }\n",
       "</style>\n",
       "<table border=\"1\" class=\"dataframe\">\n",
       "  <thead>\n",
       "    <tr style=\"text-align: right;\">\n",
       "      <th></th>\n",
       "      <th>Anime Name</th>\n",
       "      <th>Most Watched in Country</th>\n",
       "      <th>Ratings</th>\n",
       "      <th>Number of Episodes</th>\n",
       "      <th>Animation Studio Name</th>\n",
       "      <th>Budget (in Million USD)</th>\n",
       "      <th>Release Year</th>\n",
       "      <th>Genre</th>\n",
       "      <th>Duration per Episode (minutes)</th>\n",
       "    </tr>\n",
       "  </thead>\n",
       "  <tbody>\n",
       "    <tr>\n",
       "      <th>0</th>\n",
       "      <td>Fullmetal Alchemist</td>\n",
       "      <td>Brazil</td>\n",
       "      <td>8.8</td>\n",
       "      <td>317.0</td>\n",
       "      <td>Ufotable</td>\n",
       "      <td>80.61</td>\n",
       "      <td>1998.0</td>\n",
       "      <td>Fantasy</td>\n",
       "      <td>NaN</td>\n",
       "    </tr>\n",
       "    <tr>\n",
       "      <th>1</th>\n",
       "      <td>Haikyuu!!</td>\n",
       "      <td>Mexico</td>\n",
       "      <td>9.2</td>\n",
       "      <td>420.0</td>\n",
       "      <td>MAPPA</td>\n",
       "      <td>74.99</td>\n",
       "      <td>2022.0</td>\n",
       "      <td>Adventure</td>\n",
       "      <td>59.0</td>\n",
       "    </tr>\n",
       "    <tr>\n",
       "      <th>2</th>\n",
       "      <td>NaN</td>\n",
       "      <td>South Korea</td>\n",
       "      <td>7.4</td>\n",
       "      <td>419.0</td>\n",
       "      <td>A-1 Pictures</td>\n",
       "      <td>59.05</td>\n",
       "      <td>2009.0</td>\n",
       "      <td>Mystery</td>\n",
       "      <td>56.0</td>\n",
       "    </tr>\n",
       "    <tr>\n",
       "      <th>3</th>\n",
       "      <td>Bleach</td>\n",
       "      <td>Brazil</td>\n",
       "      <td>6.4</td>\n",
       "      <td>NaN</td>\n",
       "      <td>Ufotable</td>\n",
       "      <td>45.35</td>\n",
       "      <td>2002.0</td>\n",
       "      <td>Fantasy</td>\n",
       "      <td>55.0</td>\n",
       "    </tr>\n",
       "    <tr>\n",
       "      <th>4</th>\n",
       "      <td>Sword Art Online</td>\n",
       "      <td>NaN</td>\n",
       "      <td>9.8</td>\n",
       "      <td>327.0</td>\n",
       "      <td>Madhouse</td>\n",
       "      <td>15.90</td>\n",
       "      <td>2017.0</td>\n",
       "      <td>NaN</td>\n",
       "      <td>43.0</td>\n",
       "    </tr>\n",
       "    <tr>\n",
       "      <th>...</th>\n",
       "      <td>...</td>\n",
       "      <td>...</td>\n",
       "      <td>...</td>\n",
       "      <td>...</td>\n",
       "      <td>...</td>\n",
       "      <td>...</td>\n",
       "      <td>...</td>\n",
       "      <td>...</td>\n",
       "      <td>...</td>\n",
       "    </tr>\n",
       "    <tr>\n",
       "      <th>95</th>\n",
       "      <td>Tokyo Ghoul</td>\n",
       "      <td>Philippines</td>\n",
       "      <td>6.5</td>\n",
       "      <td>499.0</td>\n",
       "      <td>NaN</td>\n",
       "      <td>40.62</td>\n",
       "      <td>NaN</td>\n",
       "      <td>Psychological</td>\n",
       "      <td>51.0</td>\n",
       "    </tr>\n",
       "    <tr>\n",
       "      <th>96</th>\n",
       "      <td>Attack on Titan</td>\n",
       "      <td>Brazil</td>\n",
       "      <td>8.8</td>\n",
       "      <td>248.0</td>\n",
       "      <td>Pierrot</td>\n",
       "      <td>54.69</td>\n",
       "      <td>1993.0</td>\n",
       "      <td>Sci-Fi</td>\n",
       "      <td>57.0</td>\n",
       "    </tr>\n",
       "    <tr>\n",
       "      <th>97</th>\n",
       "      <td>NaN</td>\n",
       "      <td>Argentina</td>\n",
       "      <td>8.2</td>\n",
       "      <td>384.0</td>\n",
       "      <td>Madhouse</td>\n",
       "      <td>39.73</td>\n",
       "      <td>2014.0</td>\n",
       "      <td>NaN</td>\n",
       "      <td>52.0</td>\n",
       "    </tr>\n",
       "    <tr>\n",
       "      <th>98</th>\n",
       "      <td>Jujutsu Kaisen</td>\n",
       "      <td>India</td>\n",
       "      <td>7.2</td>\n",
       "      <td>396.0</td>\n",
       "      <td>Pierrot</td>\n",
       "      <td>68.53</td>\n",
       "      <td>1992.0</td>\n",
       "      <td>Sci-Fi</td>\n",
       "      <td>42.0</td>\n",
       "    </tr>\n",
       "    <tr>\n",
       "      <th>99</th>\n",
       "      <td>My Hero Academia</td>\n",
       "      <td>Thailand</td>\n",
       "      <td>7.7</td>\n",
       "      <td>283.0</td>\n",
       "      <td>Studio Ghibli</td>\n",
       "      <td>5.82</td>\n",
       "      <td>2021.0</td>\n",
       "      <td>Fantasy</td>\n",
       "      <td>34.0</td>\n",
       "    </tr>\n",
       "  </tbody>\n",
       "</table>\n",
       "<p>100 rows × 9 columns</p>\n",
       "</div>"
      ],
      "text/plain": [
       "             Anime Name Most Watched in Country  Ratings  Number of Episodes  \\\n",
       "0   Fullmetal Alchemist                  Brazil      8.8               317.0   \n",
       "1             Haikyuu!!                  Mexico      9.2               420.0   \n",
       "2                   NaN             South Korea      7.4               419.0   \n",
       "3                Bleach                  Brazil      6.4                 NaN   \n",
       "4      Sword Art Online                     NaN      9.8               327.0   \n",
       "..                  ...                     ...      ...                 ...   \n",
       "95          Tokyo Ghoul             Philippines      6.5               499.0   \n",
       "96      Attack on Titan                  Brazil      8.8               248.0   \n",
       "97                  NaN               Argentina      8.2               384.0   \n",
       "98       Jujutsu Kaisen                   India      7.2               396.0   \n",
       "99     My Hero Academia                Thailand      7.7               283.0   \n",
       "\n",
       "   Animation Studio Name  Budget (in Million USD)  Release Year  \\\n",
       "0               Ufotable                    80.61        1998.0   \n",
       "1                  MAPPA                    74.99        2022.0   \n",
       "2           A-1 Pictures                    59.05        2009.0   \n",
       "3               Ufotable                    45.35        2002.0   \n",
       "4               Madhouse                    15.90        2017.0   \n",
       "..                   ...                      ...           ...   \n",
       "95                   NaN                    40.62           NaN   \n",
       "96               Pierrot                    54.69        1993.0   \n",
       "97              Madhouse                    39.73        2014.0   \n",
       "98               Pierrot                    68.53        1992.0   \n",
       "99         Studio Ghibli                     5.82        2021.0   \n",
       "\n",
       "            Genre  Duration per Episode (minutes)  \n",
       "0         Fantasy                             NaN  \n",
       "1       Adventure                            59.0  \n",
       "2         Mystery                            56.0  \n",
       "3         Fantasy                            55.0  \n",
       "4             NaN                            43.0  \n",
       "..            ...                             ...  \n",
       "95  Psychological                            51.0  \n",
       "96         Sci-Fi                            57.0  \n",
       "97            NaN                            52.0  \n",
       "98         Sci-Fi                            42.0  \n",
       "99        Fantasy                            34.0  \n",
       "\n",
       "[100 rows x 9 columns]"
      ]
     },
     "execution_count": 6,
     "metadata": {},
     "output_type": "execute_result"
    }
   ],
   "source": [
    "import pandas as pd \n",
    "anime= pd.read_csv('most_watched_anime_dataset_100_entries.csv')\n",
    "anime\n"
   ]
  },
  {
   "cell_type": "code",
   "execution_count": 18,
   "metadata": {},
   "outputs": [
    {
     "data": {
      "text/html": [
       "<div>\n",
       "<style scoped>\n",
       "    .dataframe tbody tr th:only-of-type {\n",
       "        vertical-align: middle;\n",
       "    }\n",
       "\n",
       "    .dataframe tbody tr th {\n",
       "        vertical-align: top;\n",
       "    }\n",
       "\n",
       "    .dataframe thead th {\n",
       "        text-align: right;\n",
       "    }\n",
       "</style>\n",
       "<table border=\"1\" class=\"dataframe\">\n",
       "  <thead>\n",
       "    <tr style=\"text-align: right;\">\n",
       "      <th></th>\n",
       "      <th>Ratings</th>\n",
       "      <th>Budget (in Million USD)</th>\n",
       "    </tr>\n",
       "  </thead>\n",
       "  <tbody>\n",
       "    <tr>\n",
       "      <th>0</th>\n",
       "      <td>8.8</td>\n",
       "      <td>80.61</td>\n",
       "    </tr>\n",
       "    <tr>\n",
       "      <th>1</th>\n",
       "      <td>9.2</td>\n",
       "      <td>74.99</td>\n",
       "    </tr>\n",
       "    <tr>\n",
       "      <th>2</th>\n",
       "      <td>7.4</td>\n",
       "      <td>59.05</td>\n",
       "    </tr>\n",
       "    <tr>\n",
       "      <th>3</th>\n",
       "      <td>6.4</td>\n",
       "      <td>45.35</td>\n",
       "    </tr>\n",
       "    <tr>\n",
       "      <th>4</th>\n",
       "      <td>9.8</td>\n",
       "      <td>15.90</td>\n",
       "    </tr>\n",
       "    <tr>\n",
       "      <th>...</th>\n",
       "      <td>...</td>\n",
       "      <td>...</td>\n",
       "    </tr>\n",
       "    <tr>\n",
       "      <th>95</th>\n",
       "      <td>6.5</td>\n",
       "      <td>40.62</td>\n",
       "    </tr>\n",
       "    <tr>\n",
       "      <th>96</th>\n",
       "      <td>8.8</td>\n",
       "      <td>54.69</td>\n",
       "    </tr>\n",
       "    <tr>\n",
       "      <th>97</th>\n",
       "      <td>8.2</td>\n",
       "      <td>39.73</td>\n",
       "    </tr>\n",
       "    <tr>\n",
       "      <th>98</th>\n",
       "      <td>7.2</td>\n",
       "      <td>68.53</td>\n",
       "    </tr>\n",
       "    <tr>\n",
       "      <th>99</th>\n",
       "      <td>7.7</td>\n",
       "      <td>5.82</td>\n",
       "    </tr>\n",
       "  </tbody>\n",
       "</table>\n",
       "<p>100 rows × 2 columns</p>\n",
       "</div>"
      ],
      "text/plain": [
       "    Ratings  Budget (in Million USD)\n",
       "0       8.8                    80.61\n",
       "1       9.2                    74.99\n",
       "2       7.4                    59.05\n",
       "3       6.4                    45.35\n",
       "4       9.8                    15.90\n",
       "..      ...                      ...\n",
       "95      6.5                    40.62\n",
       "96      8.8                    54.69\n",
       "97      8.2                    39.73\n",
       "98      7.2                    68.53\n",
       "99      7.7                     5.82\n",
       "\n",
       "[100 rows x 2 columns]"
      ]
     },
     "execution_count": 18,
     "metadata": {},
     "output_type": "execute_result"
    }
   ],
   "source": [
    "anime_ratings_budget = anime[['Ratings', 'Budget (in Million USD)']]\n",
    "anime_ratings_budget"
   ]
  },
  {
   "cell_type": "code",
   "execution_count": 43,
   "metadata": {},
   "outputs": [
    {
     "name": "stderr",
     "output_type": "stream",
     "text": [
      "/var/folders/gr/yfhxd1k551nfvndg49kvgz9c0000gn/T/ipykernel_43910/1347112263.py:1: FutureWarning: The default of observed=False is deprecated and will be changed to True in a future version of pandas. Pass observed=False to retain current behavior or observed=True to adopt the future default and silence this warning.\n",
      "  calculos = anime.groupby('Budget Range')['Ratings'].agg(['mean', 'median', 'std']).reset_index()\n"
     ]
    },
    {
     "data": {
      "text/html": [
       "<div>\n",
       "<style scoped>\n",
       "    .dataframe tbody tr th:only-of-type {\n",
       "        vertical-align: middle;\n",
       "    }\n",
       "\n",
       "    .dataframe tbody tr th {\n",
       "        vertical-align: top;\n",
       "    }\n",
       "\n",
       "    .dataframe thead th {\n",
       "        text-align: right;\n",
       "    }\n",
       "</style>\n",
       "<table border=\"1\" class=\"dataframe\">\n",
       "  <thead>\n",
       "    <tr style=\"text-align: right;\">\n",
       "      <th></th>\n",
       "      <th>Budget Range</th>\n",
       "      <th>mean</th>\n",
       "      <th>median</th>\n",
       "      <th>std</th>\n",
       "    </tr>\n",
       "  </thead>\n",
       "  <tbody>\n",
       "    <tr>\n",
       "      <th>0</th>\n",
       "      <td>Bajo</td>\n",
       "      <td>8.014286</td>\n",
       "      <td>8.0</td>\n",
       "      <td>1.087789</td>\n",
       "    </tr>\n",
       "    <tr>\n",
       "      <th>1</th>\n",
       "      <td>Media</td>\n",
       "      <td>7.907692</td>\n",
       "      <td>7.5</td>\n",
       "      <td>1.111728</td>\n",
       "    </tr>\n",
       "    <tr>\n",
       "      <th>2</th>\n",
       "      <td>Alto</td>\n",
       "      <td>8.321053</td>\n",
       "      <td>8.1</td>\n",
       "      <td>1.006964</td>\n",
       "    </tr>\n",
       "    <tr>\n",
       "      <th>3</th>\n",
       "      <td>May Alto</td>\n",
       "      <td>8.840000</td>\n",
       "      <td>9.4</td>\n",
       "      <td>1.274923</td>\n",
       "    </tr>\n",
       "  </tbody>\n",
       "</table>\n",
       "</div>"
      ],
      "text/plain": [
       "  Budget Range      mean  median       std\n",
       "0         Bajo  8.014286     8.0  1.087789\n",
       "1        Media  7.907692     7.5  1.111728\n",
       "2         Alto  8.321053     8.1  1.006964\n",
       "3     May Alto  8.840000     9.4  1.274923"
      ]
     },
     "execution_count": 43,
     "metadata": {},
     "output_type": "execute_result"
    }
   ],
   "source": [
    "\n",
    "calculos = anime.groupby('Budget Range')['Ratings'].agg(['mean', 'median', 'std']).reset_index()\n",
    "calculos"
   ]
  },
  {
   "cell_type": "markdown",
   "metadata": {},
   "source": [
    "## EDA"
   ]
  },
  {
   "cell_type": "code",
   "execution_count": 53,
   "metadata": {},
   "outputs": [
    {
     "data": {
      "image/png": "[encoded data removed]",
      "text/plain": [
       "<Figure size 800x500 with 1 Axes>"
      ]
     },
     "metadata": {},
     "output_type": "display_data"
    }
   ],
   "source": [
    "\n",
    "import matplotlib.pyplot as plt\n",
    "import seaborn as sns\n",
    "\n",
    "anime_ratings_budget = anime[['Ratings', 'Budget (in Million USD)']]\n",
    "plt.figure(figsize=(8, 5))\n",
    "sns.scatterplot(x=anime_ratings_budget['Budget (in Million USD)'], y=anime_ratings_budget['Ratings'])\n",
    "plt.xlabel(\"Presupuesto (Millones de USD)\")\n",
    "plt.ylabel(\"Ratings\")\n",
    "plt.title(\"Gráfica 1. Relación entre Presupuesto y Ratings del Anime\")\n",
    "plt.show()\n",
    "\n",
    "\n"
   ]
  },
  {
   "cell_type": "markdown",
   "metadata": {},
   "source": [
    "En la Gráfica 1 se muestra un diagrama de dispersión que compara el rating de animes con su presupuesto. El objetivo es analizar si existe una relación entre estas dos variables y observar si hay una mayor concentración de puntos en ciertos rangos de presupuesto o rating.\n",
    "Sin embargo, no es clara la relación entre el presupuesto y los ratings, ya que los puntos parecen estar dispersos sin una tendencia evidente."
   ]
  },
  {
   "cell_type": "code",
   "execution_count": 50,
   "metadata": {},
   "outputs": [
    {
     "data": {
      "image/png": "[encoded data removed]",
      "text/plain": [
       "<Figure size 2000x800 with 1 Axes>"
      ]
     },
     "metadata": {},
     "output_type": "display_data"
    }
   ],
   "source": [
    "plt.figure(figsize=(20, 8))\n",
    "plt.bar(anime['Budget (in Million USD)'], anime['Ratings'], color='skyblue')\n",
    "plt.xlabel(\"Budget\")\n",
    "plt.ylabel(\"Ratings\")\n",
    "plt.title(\"Gráfica 2. Comparación\")\n",
    "plt.show()"
   ]
  },
  {
   "cell_type": "markdown",
   "metadata": {},
   "source": [
    "En la Gráfica 2 se presenta un gráfico de barras que agrupa los datos para facilitar su visualización. Aunque la representación en barras hace que los datos sean más claros y localizados, no se observa ninguna tendencia evidente entre el presupuesto y los ratings."
   ]
  },
  {
   "cell_type": "code",
   "execution_count": 27,
   "metadata": {},
   "outputs": [
    {
     "data": {
      "text/html": [
       "<div>\n",
       "<style scoped>\n",
       "    .dataframe tbody tr th:only-of-type {\n",
       "        vertical-align: middle;\n",
       "    }\n",
       "\n",
       "    .dataframe tbody tr th {\n",
       "        vertical-align: top;\n",
       "    }\n",
       "\n",
       "    .dataframe thead th {\n",
       "        text-align: right;\n",
       "    }\n",
       "</style>\n",
       "<table border=\"1\" class=\"dataframe\">\n",
       "  <thead>\n",
       "    <tr style=\"text-align: right;\">\n",
       "      <th></th>\n",
       "      <th>Budget (in Million USD)</th>\n",
       "      <th>Budget Range</th>\n",
       "    </tr>\n",
       "  </thead>\n",
       "  <tbody>\n",
       "    <tr>\n",
       "      <th>0</th>\n",
       "      <td>80.61</td>\n",
       "      <td>Alto</td>\n",
       "    </tr>\n",
       "    <tr>\n",
       "      <th>1</th>\n",
       "      <td>74.99</td>\n",
       "      <td>Media</td>\n",
       "    </tr>\n",
       "    <tr>\n",
       "      <th>2</th>\n",
       "      <td>59.05</td>\n",
       "      <td>Media</td>\n",
       "    </tr>\n",
       "    <tr>\n",
       "      <th>3</th>\n",
       "      <td>45.35</td>\n",
       "      <td>Media</td>\n",
       "    </tr>\n",
       "    <tr>\n",
       "      <th>4</th>\n",
       "      <td>15.90</td>\n",
       "      <td>Bajo</td>\n",
       "    </tr>\n",
       "    <tr>\n",
       "      <th>...</th>\n",
       "      <td>...</td>\n",
       "      <td>...</td>\n",
       "    </tr>\n",
       "    <tr>\n",
       "      <th>95</th>\n",
       "      <td>40.62</td>\n",
       "      <td>Media</td>\n",
       "    </tr>\n",
       "    <tr>\n",
       "      <th>96</th>\n",
       "      <td>54.69</td>\n",
       "      <td>Media</td>\n",
       "    </tr>\n",
       "    <tr>\n",
       "      <th>97</th>\n",
       "      <td>39.73</td>\n",
       "      <td>Bajo</td>\n",
       "    </tr>\n",
       "    <tr>\n",
       "      <th>98</th>\n",
       "      <td>68.53</td>\n",
       "      <td>Media</td>\n",
       "    </tr>\n",
       "    <tr>\n",
       "      <th>99</th>\n",
       "      <td>5.82</td>\n",
       "      <td>Bajo</td>\n",
       "    </tr>\n",
       "  </tbody>\n",
       "</table>\n",
       "<p>100 rows × 2 columns</p>\n",
       "</div>"
      ],
      "text/plain": [
       "    Budget (in Million USD) Budget Range\n",
       "0                     80.61         Alto\n",
       "1                     74.99        Media\n",
       "2                     59.05        Media\n",
       "3                     45.35        Media\n",
       "4                     15.90         Bajo\n",
       "..                      ...          ...\n",
       "95                    40.62        Media\n",
       "96                    54.69        Media\n",
       "97                    39.73         Bajo\n",
       "98                    68.53        Media\n",
       "99                     5.82         Bajo\n",
       "\n",
       "[100 rows x 2 columns]"
      ]
     },
     "execution_count": 27,
     "metadata": {},
     "output_type": "execute_result"
    }
   ],
   "source": [
    "import pandas as pd\n",
    "anime['Budget Range'] = pd.cut(\n",
    "    anime['Budget (in Million USD)'], \n",
    "    bins=[0, 40, 80, 120, 160], \n",
    "    labels=['Bajo', 'Media', 'Alto', 'May Alto']\n",
    ")\n",
    "\n",
    "# Mostrar los primeros registros para verificar\n",
    "anime[['Budget (in Million USD)', 'Budget Range']]"
   ]
  },
  {
   "cell_type": "code",
   "execution_count": 51,
   "metadata": {},
   "outputs": [
    {
     "data": {
      "image/png": "[encoded data removed]",
      "text/plain": [
       "<Figure size 640x480 with 1 Axes>"
      ]
     },
     "metadata": {},
     "output_type": "display_data"
    }
   ],
   "source": [
    "import matplotlib.pyplot as plt\n",
    "import seaborn as sns\n",
    "sns.barplot(x='Budget Range', y='Ratings', data=anime, estimator='mean', color= 'yellow')\n",
    "plt.xlabel(\"Rango de Presupuesto\")\n",
    "plt.ylabel(\"Ratings Promedio\")\n",
    "plt.title(\"Gráfica 3. Ratings Promedio por Rango de Presupuesto\")\n",
    "plt.show()"
   ]
  },
  {
   "cell_type": "markdown",
   "metadata": {},
   "source": [
    "En la Gráfica 3 se agruparon los datos de presupuesto en cuatro categorías: Bajo, Medio, Alto y Muy Alto. Esta agrupación permite tener una visión más clara de cómo varían los ratings promedio según el rango de presupuesto.\n",
    "Se utilizó un gráfico de barras para representar los datos, ya que este tipo de gráfico es ideal para mostrar las diferencias entre los grupos de manera clara y efectiva."
   ]
  },
  {
   "cell_type": "code",
   "execution_count": 52,
   "metadata": {},
   "outputs": [
    {
     "data": {
      "image/png": "[encoded data removed]",
      "text/plain": [
       "<Figure size 640x480 with 1 Axes>"
      ]
     },
     "metadata": {},
     "output_type": "display_data"
    }
   ],
   "source": [
    "import seaborn as sns\n",
    "sns.boxplot(x='Budget Range', y='Ratings', data=anime)\n",
    "plt.xlabel(\"Rango de Presupuesto (Millones de USD)\")\n",
    "plt.ylabel(\"Ratings\")\n",
    "plt.title(\"Gráfica 4. Distribución de Ratings por Rango de Presupuesto\")\n",
    "plt.show()"
   ]
  },
  {
   "cell_type": "markdown",
   "metadata": {},
   "source": [
    "En la Gráfica 4 se utilizó un diagrama de cajas para analizar la distribución de los ratings en diferentes rangos de presupuesto. Utilizamos esta gráfica ya que no srive para visualizar la variabilidad de los datos, ya que muestra la mediana, los cuartiles y los valores atípicos de cada grupo."
   ]
  },
  {
   "cell_type": "markdown",
   "metadata": {},
   "source": [
    "# Conclusión"
   ]
  },
  {
   "cell_type": "markdown",
   "metadata": {},
   "source": [
    "La hipótesis se niega; basándonos en las dos últimas gráficas, donde se sacó el promedio de los ratings comparándolos con su presupuesto en un gráfico de barras, lo anterior se decidió para poder tener un mejor panorama del conjunto de datos y así poder agruparlos en un tipo de inversión. Esta gráfica nos está mostrando que un anime con una inversión mayor tiende a tener un rating ligeramente más alto que uno con menor inversión. Sin embargo, la diferencia en los promedios es muy pequeña, lo que sugiere que la relación no es tan fuerte como se esperaba.\n",
    "La segunda gráfica muestra la variabilidad de los ratings en cada tipo de inversión. Se observa que hay mayor variabilidad en el grupo de presupuesto alto; lo que nos indica que existen animes con muy buena calificación, pero también con calificaciones muy bajas. Esto se decidió hacer para observar si todos los datos de presupuesto y calificación tienen alguna correlación, y podemos observar que no la tienen. Si existiera una correlación fuerte, no habría una variación tan grande en ese grupo.\n",
    "\n"
   ]
  }
 ],
 "metadata": {
  "kernelspec": {
   "display_name": "IDM",
   "language": "python",
   "name": "python3"
  },
  "language_info": {
   "codemirror_mode": {
    "name": "ipython",
    "version": 3
   },
   "file_extension": ".py",
   "mimetype": "text/x-python",
   "name": "python",
   "nbconvert_exporter": "python",
   "pygments_lexer": "ipython3",
   "version": "3.12.9"
  }
 },
 "nbformat": 4,
 "nbformat_minor": 2
}
